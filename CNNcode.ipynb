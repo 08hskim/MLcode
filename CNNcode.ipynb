{
  "nbformat": 4,
  "nbformat_minor": 0,
  "metadata": {
    "colab": {
      "name": "CNNcode.ipynb",
      "private_outputs": true,
      "provenance": [],
      "collapsed_sections": [],
      "authorship_tag": "ABX9TyMI3Jn+TKBC7Ka+E14ILGs5",
      "include_colab_link": true
    },
    "kernelspec": {
      "name": "python3",
      "display_name": "Python 3"
    }
  },
  "cells": [
    {
      "cell_type": "markdown",
      "metadata": {
        "id": "view-in-github",
        "colab_type": "text"
      },
      "source": [
        "<a href=\"https://colab.research.google.com/github/08hskim/MLcode/blob/CNNcode/CNNcode.ipynb\" target=\"_parent\"><img src=\"https://colab.research.google.com/assets/colab-badge.svg\" alt=\"Open In Colab\"/></a>"
      ]
    },
    {
      "cell_type": "code",
      "metadata": {
        "id": "3gyH6_9EeB3M"
      },
      "source": [
        "import numpy as np\r\n",
        "a=np.zeros((4,5))\r\n",
        "print(a.shape[0])\r\n",
        "a[2,3]=1\r\n",
        "print(a[2,:])\r\n",
        "b=np.array([[1,2],[3,4]])\r\n",
        "c=np.array([[-1,2],[-3,4]])\r\n",
        "print(np.sum(b*c))"
      ],
      "execution_count": null,
      "outputs": []
    },
    {
      "cell_type": "code",
      "metadata": {
        "id": "ZL5zyfGtWuph"
      },
      "source": [
        "def Conv2D_operation(matrix, kernel, strides=1):\r\n",
        "    import numpy as np\r\n",
        "    length=matrix.shape[0]\r\n",
        "    len_ker=kernel.shape[0]\r\n",
        "    out=int(1+(length-len_ker)/strides)\r\n",
        "    result=np.zeros((out,out))\r\n",
        "    # strides=1인 경우\r\n",
        "    for i in range(0,out,strides):\r\n",
        "        for j in range(0,out,strides):\r\n",
        "            result[i,j]=np.sum(matrix[i:i+len_ker,j:j+len_ker]*kernel)\r\n",
        "    return result\r\n",
        "\r\n",
        "def max_pooling(matrix, strides=2):\r\n",
        "    size_w=int(matrix.shape[0]/strides)\r\n",
        "    size_h=int(matrix.shape[1]/strides)\r\n",
        "    result=np.zeros((size_w,size_h))\r\n",
        "    for i in range(0,matrix.shape[0],strides):\r\n",
        "        for j in range(0,matrix.shape[1], strides):\r\n",
        "            result[i,j]=np.max(matrix[i:i+strides,j:j+strides])\r\n",
        "    return result    \r\n",
        "\r\n",
        "def avg_pooling(matrix, strides=2):\r\n",
        "    size_w=int(matrix.shape[0]/strides)\r\n",
        "    size_h=int(matrix.shape[1]/strides)\r\n",
        "    result=np.zeros((size_w,size_h))\r\n",
        "    for i in range(0,matrix.shape[0],strides):\r\n",
        "        for j in range(0,matrix.shape[1], strides):\r\n",
        "            result[i,j]=np.sum(matrix[i:i+strides,j:j+strides])/(strides**2)\r\n",
        "    return result "
      ],
      "execution_count": null,
      "outputs": []
    },
    {
      "cell_type": "code",
      "metadata": {
        "id": "sVKa9BkWhjlz"
      },
      "source": [
        "matrix=np.array([[1,2,3,4,5],[2,1,0,1,2],[3,0,1,1,0],[1,4,1,1,2],[2,1,1,0,0]])\r\n",
        "kernel=np.array([[1,0,1],[1,0,1],[0,1,0]])\r\n",
        "feature_map=Conv2D_operation(matrix, kernel,strides=2)\r\n",
        "print(feature_map)"
      ],
      "execution_count": null,
      "outputs": []
    }
  ]
}